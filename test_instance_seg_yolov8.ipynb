{
 "cells": [
  {
   "cell_type": "code",
   "execution_count": 59,
   "id": "7adb1af3-58ba-4b46-a2e5-03aef165a498",
   "metadata": {},
   "outputs": [],
   "source": [
    "from sahi.sahi import AutoDetectionModel\n",
    "from sahi.sahi.predict import get_prediction, get_sliced_prediction"
   ]
  },
  {
   "cell_type": "code",
   "execution_count": 60,
   "id": "92907870-81a6-45ad-a547-06271780d0d8",
   "metadata": {},
   "outputs": [],
   "source": [
    "detection_model = AutoDetectionModel.from_pretrained(\n",
    "    model_type='yolov8',\n",
    "    model_path='yolov8n.pt',\n",
    "    confidence_threshold=0.5,\n",
    "    device='cuda:0' # if torch.cuda.is_available() else 'cpu'\n",
    ")\n",
    "\n",
    "pred = get_prediction('small-vehicles1.jpeg', detection_model)\n",
    "\n",
    "pred.export_visuals('test_results/', file_name='small-vehicles1.jpeg')"
   ]
  },
  {
   "cell_type": "code",
   "execution_count": 61,
   "id": "bda86bbc-f90d-4627-9469-0fe403254e9f",
   "metadata": {},
   "outputs": [
    {
     "name": "stdout",
     "output_type": "stream",
     "text": [
      "Performing prediction on 3 number of slices.\n"
     ]
    }
   ],
   "source": [
    "detection_model = AutoDetectionModel.from_pretrained(\n",
    "    model_type='yolov8',\n",
    "    model_path='yolov8n.pt',\n",
    "    confidence_threshold=0.5,\n",
    "    device='cuda:0' # if torch.cuda.is_available() else 'cpu'\n",
    ")\n",
    "\n",
    "pred = get_sliced_prediction('small-vehicles1.jpeg', detection_model, \n",
    "                            slice_height=640, slice_width=640, \n",
    "                            overlap_height_ratio=0.4, overlap_width_ratio=0.4)\n",
    "\n",
    "pred.export_visuals('test_results/', file_name='sliced_small-vehicles1.jpeg')"
   ]
  },
  {
   "cell_type": "code",
   "execution_count": 62,
   "id": "56afb9d3-8cec-47c9-a28e-cc9fceb119ec",
   "metadata": {},
   "outputs": [],
   "source": [
    "detection_model = AutoDetectionModel.from_pretrained(\n",
    "    model_type='yolov8',\n",
    "    model_path='yolov8n.pt',\n",
    "    confidence_threshold=0.5,\n",
    "    device='cuda:0' # if torch.cuda.is_available() else 'cpu'\n",
    ")\n",
    "\n",
    "pred = get_prediction('clear_blue_sky.png', detection_model)\n",
    "\n",
    "pred.export_visuals('test_results/', file_name='clear_blue_sky.png')"
   ]
  },
  {
   "cell_type": "code",
   "execution_count": 63,
   "id": "f9068e79-870a-4d08-980d-8cb7684a92b8",
   "metadata": {},
   "outputs": [
    {
     "name": "stdout",
     "output_type": "stream",
     "text": [
      "Performing prediction on 32 number of slices.\n"
     ]
    }
   ],
   "source": [
    "detection_model = AutoDetectionModel.from_pretrained(\n",
    "    model_type='yolov8',\n",
    "    model_path='yolov8n.pt',\n",
    "    confidence_threshold=0.5,\n",
    "    device='cuda:0' # if torch.cuda.is_available() else 'cpu'\n",
    ")\n",
    "\n",
    "pred = get_sliced_prediction('clear_blue_sky.png', detection_model, \n",
    "                            slice_height=640, slice_width=640, \n",
    "                            overlap_height_ratio=0.2, overlap_width_ratio=0.2)\n",
    "\n",
    "pred.export_visuals('test_results/', file_name='sliced_clear_blue_sky.png')"
   ]
  }
 ],
 "metadata": {
  "kernelspec": {
   "display_name": "Python 3 (ipykernel)",
   "language": "python",
   "name": "python3"
  },
  "language_info": {
   "codemirror_mode": {
    "name": "ipython",
    "version": 3
   },
   "file_extension": ".py",
   "mimetype": "text/x-python",
   "name": "python",
   "nbconvert_exporter": "python",
   "pygments_lexer": "ipython3",
   "version": "3.8.15"
  }
 },
 "nbformat": 4,
 "nbformat_minor": 5
}
